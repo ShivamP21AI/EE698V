{
 "cells": [
  {
   "cell_type": "code",
   "execution_count": 3,
   "metadata": {},
   "outputs": [],
   "source": [
    "import scipy\n",
    "import numpy as np"
   ]
  },
  {
   "cell_type": "code",
   "execution_count": 4,
   "metadata": {},
   "outputs": [],
   "source": [
    "signal = np.float32([[0.6, 0.2, 1.2, 0.4, 0.3],\n",
    "                   [0.9, 1.7, 0.3, 1.1, 0.1],\n",
    "                   [0.6, 0.8, 1.1, 0.2, 0.5],\n",
    "                   [0.4, 0.1, 0.4, 0, 0.2]])"
   ]
  },
  {
   "cell_type": "code",
   "execution_count": 5,
   "metadata": {},
   "outputs": [
    {
     "data": {
      "text/plain": [
       "array([[0.6, 0.2, 1.2, 0.4, 0.3],\n",
       "       [0.9, 1.7, 0.3, 1.1, 0.1],\n",
       "       [0.6, 0.8, 1.1, 0.2, 0.5],\n",
       "       [0.4, 0.1, 0.4, 0. , 0.2]], dtype=float32)"
      ]
     },
     "execution_count": 5,
     "metadata": {},
     "output_type": "execute_result"
    }
   ],
   "source": [
    "signal"
   ]
  },
  {
   "cell_type": "code",
   "execution_count": 7,
   "metadata": {},
   "outputs": [
    {
     "data": {
      "text/plain": [
       "array([[-0.11111111, -0.11111111, -0.11111111],\n",
       "       [-0.11111111,  1.88888889, -0.11111111],\n",
       "       [-0.11111111, -0.11111111, -0.11111111]])"
      ]
     },
     "execution_count": 7,
     "metadata": {},
     "output_type": "execute_result"
    }
   ],
   "source": [
    "h = np.zeros((3, 3))\n",
    "h[1, 1] = 2\n",
    "h = h-np.ones((3, 3))/9\n",
    "h"
   ]
  },
  {
   "cell_type": "code",
   "execution_count": 10,
   "metadata": {},
   "outputs": [],
   "source": [
    "from scipy.signal import sepfir2d\n",
    "from scipy.signal import convolve2d"
   ]
  },
  {
   "cell_type": "code",
   "execution_count": 15,
   "metadata": {},
   "outputs": [
    {
     "data": {
      "text/plain": [
       "array([[ 0.82222226, -0.14444445,  1.85555564,  0.42222222,  0.38888891],\n",
       "       [ 1.26666661,  2.57777785, -0.17777777,  1.62222226, -0.08888889],\n",
       "       [ 0.70000004,  0.90000001,  1.5666667 , -0.03333334,  0.76666666],\n",
       "       [ 0.5888889 , -0.17777778,  0.51111112, -0.26666667,  0.30000001]])"
      ]
     },
     "execution_count": 15,
     "metadata": {},
     "output_type": "execute_result"
    }
   ],
   "source": [
    "convolve2d(signal, h, mode='same')"
   ]
  },
  {
   "cell_type": "code",
   "execution_count": null,
   "metadata": {},
   "outputs": [],
   "source": []
  }
 ],
 "metadata": {
  "kernelspec": {
   "display_name": "Python 3",
   "language": "python",
   "name": "python3"
  },
  "language_info": {
   "codemirror_mode": {
    "name": "ipython",
    "version": 3
   },
   "file_extension": ".py",
   "mimetype": "text/x-python",
   "name": "python",
   "nbconvert_exporter": "python",
   "pygments_lexer": "ipython3",
   "version": "3.6.8"
  }
 },
 "nbformat": 4,
 "nbformat_minor": 2
}
